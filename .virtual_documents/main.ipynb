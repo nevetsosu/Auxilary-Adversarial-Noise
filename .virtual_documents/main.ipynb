logo_dir = "./logos/"


import google.generativeai as genai
from dotenv import load_dotenv
import os

load_dotenv()

genai.configure(api_key=os.getenv("GEMINI_API_KEY"))
model = genai.GenerativeModel("gemini-1.5-flash")

file = genai.upload_file(logo_dir + "google.jpg")
result = model.generate_content(
    [file, "\n\n", "Do you know this logo?"]
)

print(f"{result.text}")



